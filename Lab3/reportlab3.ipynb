{
 "cells": [
  {
   "cell_type": "markdown",
   "source": [
    "# Проаналізував наявні дані у компанії, яка торгує бу автомобілями по всій Америці та виявлені серед них фактори (ознаки), які впливають на ціну, а також структуру взаємозалежності факторів.\n",
    "<br>\n",
    "\n",
    "\n",
    "## Із даних автомобіля було виявлено основні параметри\n",
    "\n",
    "<img\n",
    "src=\"img/1.png\"\n",
    "alt=\"Рис. 1 Основні параметри автомобіля .\">\n",
    "\n"
   ],
   "metadata": {
    "collapsed": false
   }
  },
  {
   "cell_type": "markdown",
   "source": [],
   "metadata": {
    "collapsed": false
   }
  },
  {
   "cell_type": "markdown",
   "source": [
    "\n",
    "# Були знайдені 5 основних характеристик,від яких залежить ціна:\n",
    "•\tcurb_weight vs price is 0.84\n",
    "•\thorsepower  vs price is 0.762\n",
    "•\thighway_mpg vs price is 0.701, p-value is 8.021775873685615e-28\n",
    "•\tmake    vs Price is 0.02, p-value is 0.7910664858673897\n",
    "•\twidth  vs Price is 0.752, p-value is 7.733161722653157e-34\n",
    "\n",
    "\n",
    "<img\n",
    "src = \"img/2.png\"\n",
    "alt = \"Основні характеристики автомобіля\" >\n"
   ],
   "metadata": {
    "collapsed": false
   }
  },
  {
   "cell_type": "markdown",
   "source": [
    "# Проведено кореляцію даних\n",
    "<img\n",
    "src = \"img/3.png\"\n",
    "alt = \"Кореляція відповідних даних у вигляді heatmap\" >\n"
   ],
   "metadata": {
    "collapsed": false
   }
  }
 ],
 "metadata": {
  "kernelspec": {
   "display_name": "Python 3",
   "language": "python",
   "name": "python3"
  },
  "language_info": {
   "codemirror_mode": {
    "name": "ipython",
    "version": 2
   },
   "file_extension": ".py",
   "mimetype": "text/x-python",
   "name": "python",
   "nbconvert_exporter": "python",
   "pygments_lexer": "ipython2",
   "version": "2.7.6"
  }
 },
 "nbformat": 4,
 "nbformat_minor": 0
}
