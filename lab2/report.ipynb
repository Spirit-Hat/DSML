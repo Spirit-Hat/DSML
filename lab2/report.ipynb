{
 "cells": [
  {
   "cell_type": "markdown",
   "source": [
    "Інформація зібрана за 01.08.2012 – 23.08.2013 з міста Нью-Йорк з п’яти адміністративних округів\n",
    "\n",
    "Графік залежності кількості покупок по районом. Найбільш популярний округ Manhattan , та Brooklyn і Queens. Найменш популярні округи Bronx  і Staten.\n",
    "\n",
    "<img src=\"image/Screenshot1.jpg\">\n",
    "<br>\n",
    "<img\n",
    "src=\"image/output.png\"\n",
    "alt=\"Рис. 1 Графік кількості продажу по округам.\"\n",
    ">\n",
    "\n",
    "\n",
    "\n",
    "Графік суми продажів по округам Нью-Йорк. Найбільша сума доходу в окрузі Manhattan.\n",
    "\n",
    "<img src=\"image/Screenshot2.jpg\">\n",
    "<div><img\n",
    "src=\"image/output1.png\"\n",
    "caption=\"Рис.2 Графік доходу по округам.\">\n",
    "</div>\n",
    "\n",
    "Кількість продажів по округам та кварталам. Найактивніша покупка була в 2му кварталі.\n",
    "\n",
    "<div><img\n",
    "src=\"image/output3.png\"\n",
    "alt=\"Графік кількості продажу по округам та кварталам .\">\n",
    "</div>\n",
    "\n",
    "Найбільший дохід був 2012.12 мінімальний дохід був 2013.8\n",
    "<div><img\n",
    "src=\"image/output4.png\"\n",
    "alt=\"Графік суми покупок за кожен місяць кожного року.\n",
    "\">\n",
    "</div>\n",
    "\n",
    "\n",
    "Тип будинку к середній ціні на землю\n",
    "<div><img\n",
    "src=\"image/output5.png\"\n",
    "\">\n",
    "</div>\n"
   ],
   "metadata": {
    "collapsed": false
   }
  },
  {
   "cell_type": "code",
   "execution_count": 1,
   "outputs": [],
   "source": [],
   "metadata": {
    "collapsed": false
   }
  }
 ],
 "metadata": {
  "kernelspec": {
   "display_name": "Python 3",
   "language": "python",
   "name": "python3"
  },
  "language_info": {
   "codemirror_mode": {
    "name": "ipython",
    "version": 2
   },
   "file_extension": ".py",
   "mimetype": "text/x-python",
   "name": "python",
   "nbconvert_exporter": "python",
   "pygments_lexer": "ipython2",
   "version": "2.7.6"
  }
 },
 "nbformat": 4,
 "nbformat_minor": 0
}
