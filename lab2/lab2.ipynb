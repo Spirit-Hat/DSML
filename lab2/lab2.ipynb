{
 "cells": [
  {
   "cell_type": "code",
   "execution_count": 1,
   "metadata": {
    "collapsed": true
   },
   "outputs": [
    {
     "name": "stdout",
     "output_type": "stream",
     "text": [
      "['rollingsales_bronx.xls', 'rollingsales_brooklyn.xls', 'rollingsales_manhattan.xls', 'rollingsales_queens.xls', 'rollingsales_statenisland.xls']\n",
      "7770\n"
     ]
    }
   ],
   "source": [
    "import pandas as pd\n",
    "import os\n",
    "\n",
    "dir_path = \"dataset\"\n",
    "res = []\n",
    "\n",
    "for path in os.listdir(dir_path):\n",
    "    res.append(path)\n",
    "print(res)\n",
    "# df = pd.read_csv(\"dataset/nyt1.csv\")\n",
    "\n",
    "data = pd.read_excel(\"dataset/rollingsales_manhattan.xls\", skiprows=4)\n",
    "data.columns = [column.lower().replace(\"\\n\", \"\").replace(\" \", \"_\").replace(\"-\", \"_\") for column in data.columns]\n",
    "# data = data[data.year_built > 0]\n",
    "\n",
    "data_price_zero = data[data.saleprice <=10].borough.count()\n",
    "print(data_price_zero)\n"
   ]
  },
  {
   "cell_type": "code",
   "execution_count": 2,
   "outputs": [
    {
     "name": "stdout",
     "output_type": "stream",
     "text": [
      "Index(['borough', 'neighborhood', 'building_class_category',\n",
      "       'tax_class_at_present', 'block', 'lot', 'ease_ment',\n",
      "       'building_class_at_present', 'address', 'apartmentnumber', 'zip_code',\n",
      "       'residential_units', 'commercial_units', 'total_units',\n",
      "       'land_square_feet', 'gross_square_feet', 'year_built',\n",
      "       'tax_class_at_time_of_sale', 'building_class_at_time_of_sale',\n",
      "       'saleprice', 'sale_date'],\n",
      "      dtype='object')\n"
     ]
    }
   ],
   "source": [
    "print(data.columns)\n"
   ],
   "metadata": {
    "collapsed": false
   }
  },
  {
   "cell_type": "code",
   "execution_count": 3,
   "outputs": [
    {
     "name": "stdout",
     "output_type": "stream",
     "text": [
      "0        2214693\n",
      "1        1654656\n",
      "2        1069162\n",
      "3        1374637\n",
      "4        1649565\n",
      "          ...   \n",
      "27390          0\n",
      "27391     495000\n",
      "27392          0\n",
      "27393          0\n",
      "27394          0\n",
      "Name: saleprice, Length: 27395, dtype: int64\n"
     ]
    }
   ],
   "source": [
    "print(data.saleprice)"
   ],
   "metadata": {
    "collapsed": false
   }
  }
 ],
 "metadata": {
  "kernelspec": {
   "display_name": "Python 3",
   "language": "python",
   "name": "python3"
  },
  "language_info": {
   "codemirror_mode": {
    "name": "ipython",
    "version": 2
   },
   "file_extension": ".py",
   "mimetype": "text/x-python",
   "name": "python",
   "nbconvert_exporter": "python",
   "pygments_lexer": "ipython2",
   "version": "2.7.6"
  }
 },
 "nbformat": 4,
 "nbformat_minor": 0
}
