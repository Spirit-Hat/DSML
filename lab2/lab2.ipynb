{
 "cells": [
  {
   "cell_type": "code",
   "execution_count": 53,
   "metadata": {
    "collapsed": true
   },
   "outputs": [
    {
     "name": "stdout",
     "output_type": "stream",
     "text": [
      "Index(['borough', 'district', 'neighborhood', 'building_class_category',\n",
      "       'tax_class_at_present', 'block', 'lot', 'ease_ment',\n",
      "       'building_class_at_present', 'address', 'apartmentnumber', 'zip_code',\n",
      "       'residential_units', 'commercial_units', 'total_units',\n",
      "       'land_square_feet', 'gross_square_feet', 'year_built',\n",
      "       'tax_class_at_time_of_sale', 'building_class_at_time_of_sale',\n",
      "       'saleprice', 'sale_date'],\n",
      "      dtype='object')\n",
      "      borough district               neighborhood  \\\n",
      "0           2    Bronx  BATHGATE                    \n",
      "1           2    Bronx  BATHGATE                    \n",
      "2           2    Bronx  BATHGATE                    \n",
      "3           2    Bronx  BATHGATE                    \n",
      "4           2    Bronx  BATHGATE                    \n",
      "...       ...      ...                        ...   \n",
      "6351        5   Staten  WOODROW                     \n",
      "6352        5   Staten  WOODROW                     \n",
      "6353        5   Staten  WOODROW                     \n",
      "6354        5   Staten  WOODROW                     \n",
      "6355        5   Staten  WOODROW                     \n",
      "\n",
      "                           building_class_category tax_class_at_present  \\\n",
      "0     01  ONE FAMILY HOMES                                            1   \n",
      "1     01  ONE FAMILY HOMES                                            1   \n",
      "2     01  ONE FAMILY HOMES                                            1   \n",
      "3     01  ONE FAMILY HOMES                                            1   \n",
      "4     02  TWO FAMILY HOMES                                            1   \n",
      "...                                            ...                  ...   \n",
      "6351  02  TWO FAMILY HOMES                                            1   \n",
      "6352  02  TWO FAMILY HOMES                                            1   \n",
      "6353  02  TWO FAMILY HOMES                                            1   \n",
      "6354  22  STORE BUILDINGS                                             4   \n",
      "6355  22  STORE BUILDINGS                                             4   \n",
      "\n",
      "      block  lot ease_ment building_class_at_present  \\\n",
      "0      3028   25                                  A5   \n",
      "1      3039   28                                  A1   \n",
      "2      3046   39                                  A1   \n",
      "3      3046   52                                  A1   \n",
      "4      2900   61                                  S2   \n",
      "...     ...  ...       ...                       ...   \n",
      "6351   7349   10                                  B9   \n",
      "6352   7349   35                                  B9   \n",
      "6353   7351   11                                  B2   \n",
      "6354   7100   16                                  K6   \n",
      "6355   7105  520                                  K6   \n",
      "\n",
      "                                        address  ... residential_units  \\\n",
      "0     412 EAST 179TH STREET                      ...                 1   \n",
      "1     2329 WASHINGTON AVENUE                     ...                 1   \n",
      "2     2075 BATHGATE AVENUE                       ...                 1   \n",
      "3     2047 BATHGATE AVENUE                       ...                 1   \n",
      "4     406 EAST TREMONT AVENUE                    ...                 2   \n",
      "...                                         ...  ...               ...   \n",
      "6351  63 PHEASANT LANE                           ...                 2   \n",
      "6352  33 QUAIL LANE                              ...                 2   \n",
      "6353  40 HERRICK AVENUE                          ...                 2   \n",
      "6354  639 VETERANS ROAD WEST                     ...                 0   \n",
      "6355  2790 ARTHUR KILL ROAD                      ...                 0   \n",
      "\n",
      "      commercial_units  total_units  land_square_feet  gross_square_feet  \\\n",
      "0                    0            1              1842               2048   \n",
      "1                    0            1              1103               1290   \n",
      "2                    0            1              1986               1344   \n",
      "3                    0            1              2329               1431   \n",
      "4                    1            3              1855               4452   \n",
      "...                ...          ...               ...                ...   \n",
      "6351                 0            2              2590               2450   \n",
      "6352                 0            2              2255               2377   \n",
      "6353                 0            2              4000               2962   \n",
      "6354                 1            1             21663               6950   \n",
      "6355                 1            1            489656             159600   \n",
      "\n",
      "      year_built  tax_class_at_time_of_sale  building_class_at_time_of_sale  \\\n",
      "0           1901                          1                              A5   \n",
      "1           1910                          1                              A1   \n",
      "2           1899                          1                              A1   \n",
      "3           1901                          1                              A1   \n",
      "4           1931                          1                              S2   \n",
      "...          ...                        ...                             ...   \n",
      "6351        1998                          1                              B9   \n",
      "6352        1998                          1                              B9   \n",
      "6353        2000                          1                              B2   \n",
      "6354        2008                          4                              K6   \n",
      "6355        2010                          4                              K6   \n",
      "\n",
      "     saleprice  sale_date  \n",
      "0       355000 2013-07-08  \n",
      "1       474819 2013-05-20  \n",
      "2       210000 2013-03-12  \n",
      "3       343116 2013-07-01  \n",
      "4            0 2012-08-31  \n",
      "...        ...        ...  \n",
      "6351    505000 2013-05-15  \n",
      "6352         0 2013-04-09  \n",
      "6353         0 2012-08-01  \n",
      "6354   1300000 2013-05-29  \n",
      "6355  14850914 2013-07-01  \n",
      "\n",
      "[85975 rows x 22 columns]\n"
     ]
    }
   ],
   "source": [
    "import pandas as pd\n",
    "import os\n",
    "import seaborn as sns\n",
    "\n",
    "\n",
    "def district(borough: int):\n",
    "    if borough == 1:\n",
    "        return \"Manhattan\"\n",
    "    elif borough == 2:\n",
    "        return \"Bronx\"\n",
    "    elif borough == 3:\n",
    "        return \"Brooklyn\"\n",
    "    elif borough == 4:\n",
    "        return \"Queens\"\n",
    "    elif borough == 5:\n",
    "        return \"Staten\"\n",
    "\n",
    "\n",
    "\n",
    "dir_path = \"dataset/\"\n",
    "res = []\n",
    "data = []\n",
    "for path in os.listdir(dir_path):\n",
    "    res.append(path)\n",
    "    dirty_data = pd.read_excel(dir_path + path, skiprows=4)\n",
    "    dirty_data.columns = [column.lower().replace(\"\\n\", \"\")\n",
    "                          .replace(\" \", \"_\").replace(\"-\", \"_\")\n",
    "                          for column in\n",
    "                          dirty_data.columns]\n",
    "    data.append(dirty_data)\n",
    "# df = pd.read_csv(\"dataset/nyt1.csv\")\n",
    "data = pd.concat(data)\n",
    "\n",
    "data.insert(1, \"district\", [district(a) for a in data.borough])\n",
    "print(data.columns)\n",
    "print(data)"
   ]
  },
  {
   "cell_type": "code",
   "execution_count": 54,
   "metadata": {},
   "outputs": [
    {
     "name": "stdout",
     "output_type": "stream",
     "text": [
      "      borough district               neighborhood  \\\n",
      "0           2    Bronx  BATHGATE                    \n",
      "1           2    Bronx  BATHGATE                    \n",
      "2           2    Bronx  BATHGATE                    \n",
      "3           2    Bronx  BATHGATE                    \n",
      "4           2    Bronx  BATHGATE                    \n",
      "...       ...      ...                        ...   \n",
      "6351        5   Staten  WOODROW                     \n",
      "6352        5   Staten  WOODROW                     \n",
      "6353        5   Staten  WOODROW                     \n",
      "6354        5   Staten  WOODROW                     \n",
      "6355        5   Staten  WOODROW                     \n",
      "\n",
      "                           building_class_category tax_class_at_present  \\\n",
      "0     01  ONE FAMILY HOMES                                            1   \n",
      "1     01  ONE FAMILY HOMES                                            1   \n",
      "2     01  ONE FAMILY HOMES                                            1   \n",
      "3     01  ONE FAMILY HOMES                                            1   \n",
      "4     02  TWO FAMILY HOMES                                            1   \n",
      "...                                            ...                  ...   \n",
      "6351  02  TWO FAMILY HOMES                                            1   \n",
      "6352  02  TWO FAMILY HOMES                                            1   \n",
      "6353  02  TWO FAMILY HOMES                                            1   \n",
      "6354  22  STORE BUILDINGS                                             4   \n",
      "6355  22  STORE BUILDINGS                                             4   \n",
      "\n",
      "      block  lot ease_ment building_class_at_present  \\\n",
      "0      3028   25                                  A5   \n",
      "1      3039   28                                  A1   \n",
      "2      3046   39                                  A1   \n",
      "3      3046   52                                  A1   \n",
      "4      2900   61                                  S2   \n",
      "...     ...  ...       ...                       ...   \n",
      "6351   7349   10                                  B9   \n",
      "6352   7349   35                                  B9   \n",
      "6353   7351   11                                  B2   \n",
      "6354   7100   16                                  K6   \n",
      "6355   7105  520                                  K6   \n",
      "\n",
      "                                        address  ... residential_units  \\\n",
      "0     412 EAST 179TH STREET                      ...                 1   \n",
      "1     2329 WASHINGTON AVENUE                     ...                 1   \n",
      "2     2075 BATHGATE AVENUE                       ...                 1   \n",
      "3     2047 BATHGATE AVENUE                       ...                 1   \n",
      "4     406 EAST TREMONT AVENUE                    ...                 2   \n",
      "...                                         ...  ...               ...   \n",
      "6351  63 PHEASANT LANE                           ...                 2   \n",
      "6352  33 QUAIL LANE                              ...                 2   \n",
      "6353  40 HERRICK AVENUE                          ...                 2   \n",
      "6354  639 VETERANS ROAD WEST                     ...                 0   \n",
      "6355  2790 ARTHUR KILL ROAD                      ...                 0   \n",
      "\n",
      "      commercial_units  total_units  land_square_feet  gross_square_feet  \\\n",
      "0                    0            1              1842               2048   \n",
      "1                    0            1              1103               1290   \n",
      "2                    0            1              1986               1344   \n",
      "3                    0            1              2329               1431   \n",
      "4                    1            3              1855               4452   \n",
      "...                ...          ...               ...                ...   \n",
      "6351                 0            2              2590               2450   \n",
      "6352                 0            2              2255               2377   \n",
      "6353                 0            2              4000               2962   \n",
      "6354                 1            1             21663               6950   \n",
      "6355                 1            1            489656             159600   \n",
      "\n",
      "      year_built  tax_class_at_time_of_sale  building_class_at_time_of_sale  \\\n",
      "0           1901                          1                              A5   \n",
      "1           1910                          1                              A1   \n",
      "2           1899                          1                              A1   \n",
      "3           1901                          1                              A1   \n",
      "4           1931                          1                              S2   \n",
      "...          ...                        ...                             ...   \n",
      "6351        1998                          1                              B9   \n",
      "6352        1998                          1                              B9   \n",
      "6353        2000                          1                              B2   \n",
      "6354        2008                          4                              K6   \n",
      "6355        2010                          4                              K6   \n",
      "\n",
      "     saleprice  sale_date  \n",
      "0       355000 2013-07-08  \n",
      "1       474819 2013-05-20  \n",
      "2       210000 2013-03-12  \n",
      "3       343116 2013-07-01  \n",
      "4            0 2012-08-31  \n",
      "...        ...        ...  \n",
      "6351    505000 2013-05-15  \n",
      "6352         0 2013-04-09  \n",
      "6353         0 2012-08-01  \n",
      "6354   1300000 2013-05-29  \n",
      "6355  14850914 2013-07-01  \n",
      "\n",
      "[85975 rows x 22 columns]\n"
     ]
    }
   ],
   "source": [
    "print(data)\n"
   ]
  },
  {
   "cell_type": "code",
   "execution_count": 55,
   "metadata": {},
   "outputs": [
    {
     "name": "stdout",
     "output_type": "stream",
     "text": [
      "    district  borough  neighborhood  building_class_category  \\\n",
      "0      Bronx     5268          5268                     5268   \n",
      "1   Brooklyn    23373         23373                    23373   \n",
      "2  Manhattan    27395         27395                    27395   \n",
      "3     Queens    23583         23583                    23583   \n",
      "4     Staten     6356          6356                     6356   \n",
      "\n",
      "   tax_class_at_present  block    lot  ease_ment  building_class_at_present  \\\n",
      "0                  5268   5268   5268       5268                       5268   \n",
      "1                 23373  23373  23373      23373                      23373   \n",
      "2                 27395  27395  27395      27395                      27395   \n",
      "3                 23583  23583  23583      23583                      23583   \n",
      "4                  6356   6356   6356       6356                       6356   \n",
      "\n",
      "   address  ...  residential_units  commercial_units  total_units  \\\n",
      "0     5268  ...               5268              5268         5268   \n",
      "1    23373  ...              23373             23373        23373   \n",
      "2    27395  ...              27395             27395        27395   \n",
      "3    23583  ...              23583             23583        23583   \n",
      "4     6356  ...               6356              6356         6356   \n",
      "\n",
      "   land_square_feet  gross_square_feet  year_built  tax_class_at_time_of_sale  \\\n",
      "0              5268               5268        5268                       5268   \n",
      "1             23373              23373       23373                      23373   \n",
      "2             27395              27395       27395                      27395   \n",
      "3             23583              23583       23583                      23583   \n",
      "4              6356               6356        6356                       6356   \n",
      "\n",
      "   building_class_at_time_of_sale  saleprice  sale_date  \n",
      "0                            5268       5268       5268  \n",
      "1                           23373      23373      23373  \n",
      "2                           27395      27395      27395  \n",
      "3                           23583      23583      23583  \n",
      "4                            6356       6356       6356  \n",
      "\n",
      "[5 rows x 22 columns]\n"
     ]
    },
    {
     "data": {
      "text/plain": "[Text(0.5, 1.0, 'Orders in district'), Text(0, 0.5, 'Orders')]"
     },
     "execution_count": 55,
     "metadata": {},
     "output_type": "execute_result"
    },
    {
     "data": {
      "text/plain": "<Figure size 640x480 with 1 Axes>",
      "image/png": "[encoded data removed]"
     },
     "metadata": {},
     "output_type": "display_data"
    }
   ],
   "source": [
    "district_data_order = data.groupby([\"district\"], as_index=False).count()\n",
    "print(district_data_order)\n",
    "\n",
    "ax = sns.barplot(data=district_data_order,\n",
    "                 x=district_data_order.district,\n",
    "                 y=district_data_order.borough,\n",
    "                 )\n",
    "ax.set(title= \"Orders in district\" , ylabel=\"Orders\")"
   ]
  },
  {
   "cell_type": "code",
   "execution_count": 56,
   "outputs": [
    {
     "name": "stdout",
     "output_type": "stream",
     "text": [
      "district: ['Bronx', 'Brooklyn', 'Manhattan', 'Queens', 'Staten'],\n",
      " earnings$:[2856904409, 12349936217, 50625977883, 8602994166, 1660481167]\n"
     ]
    },
    {
     "data": {
      "text/plain": "[Text(0.5, 1.0, 'Orders in district'), Text(0, 0.5, 'Orders')]"
     },
     "execution_count": 56,
     "metadata": {},
     "output_type": "execute_result"
    },
    {
     "data": {
      "text/plain": "<Figure size 640x480 with 1 Axes>",
      "image/png": "[encoded data removed]"
     },
     "metadata": {},
     "output_type": "display_data"
    }
   ],
   "source": [
    "sum_data_order = data.groupby([\"district\"], as_index=False).sum()\n",
    "print(\"district: {},\\n earnings$:{}\" .format(sum_data_order.district.to_list() , sum_data_order.saleprice.to_list() ))\n",
    "\n",
    "ax = sns.barplot(data=sum_data_order,\n",
    "                 x=sum_data_order.district,\n",
    "                 y=sum_data_order.saleprice,\n",
    "                 )\n",
    "ax.set(title= \"Orders in district\" , ylabel=\"Orders\")"
   ],
   "metadata": {
    "collapsed": false
   }
  },
  {
   "cell_type": "code",
   "execution_count": 57,
   "outputs": [
    {
     "name": "stdout",
     "output_type": "stream",
     "text": [
      "29575\n"
     ]
    },
    {
     "ename": "AttributeError",
     "evalue": "'numpy.int64' object has no attribute 'borough'",
     "output_type": "error",
     "traceback": [
      "\u001B[1;31m---------------------------------------------------------------------------\u001B[0m",
      "\u001B[1;31mAttributeError\u001B[0m                            Traceback (most recent call last)",
      "Cell \u001B[1;32mIn [57], line 5\u001B[0m\n\u001B[0;32m      2\u001B[0m data_price_great \u001B[38;5;241m=\u001B[39m data[data\u001B[38;5;241m.\u001B[39msaleprice \u001B[38;5;241m>\u001B[39m \u001B[38;5;241m10\u001B[39m]\u001B[38;5;241m.\u001B[39mborough\u001B[38;5;241m.\u001B[39mcount()\n\u001B[0;32m      3\u001B[0m \u001B[38;5;28mprint\u001B[39m(data_price_zero)\n\u001B[0;32m      4\u001B[0m ax \u001B[38;5;241m=\u001B[39m sns\u001B[38;5;241m.\u001B[39mbarplot(data\u001B[38;5;241m=\u001B[39mdata,\n\u001B[1;32m----> 5\u001B[0m                  x\u001B[38;5;241m=\u001B[39m\u001B[43mdata_price_zero\u001B[49m\u001B[38;5;241;43m.\u001B[39;49m\u001B[43mborough\u001B[49m,\n\u001B[0;32m      6\u001B[0m                  y\u001B[38;5;241m=\u001B[39mdata_price_great\u001B[38;5;241m.\u001B[39mborough,\n\u001B[0;32m      7\u001B[0m                  )\n",
      "\u001B[1;31mAttributeError\u001B[0m: 'numpy.int64' object has no attribute 'borough'"
     ]
    }
   ],
   "source": [
    "data_price_zero  = data[data.saleprice <= 10].borough.count()\n",
    "data_price_great = data[data.saleprice > 10].borough.count()\n",
    "print(data_price_zero)\n",
    "ax = sns.barplot(data=data,\n",
    "                 x=data_price_zero.borough,\n",
    "                 y=data_price_great.borough,\n",
    "                 )"
   ],
   "metadata": {
    "collapsed": false
   }
  },
  {
   "cell_type": "code",
   "execution_count": null,
   "outputs": [],
   "source": [],
   "metadata": {
    "collapsed": false
   }
  }
 ],
 "metadata": {
  "kernelspec": {
   "display_name": "Python 3 (ipykernel)",
   "language": "python",
   "name": "python3"
  },
  "language_info": {
   "codemirror_mode": {
    "name": "ipython",
    "version": 3
   },
   "file_extension": ".py",
   "mimetype": "text/x-python",
   "name": "python",
   "nbconvert_exporter": "python",
   "pygments_lexer": "ipython3",
   "version": "3.9.13"
  }
 },
 "nbformat": 4,
 "nbformat_minor": 1
}
